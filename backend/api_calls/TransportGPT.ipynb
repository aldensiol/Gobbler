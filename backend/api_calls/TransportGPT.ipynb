{
 "cells": [
  {
   "cell_type": "code",
   "execution_count": null,
   "metadata": {},
   "outputs": [],
   "source": [
    "import requests\n",
    "from dotenv import load_dotenv\n",
    "import os\n",
    "\n",
    "load_dotenv('./env')\n",
    "\n",
    "headers = {\"AccountKey\": os.getenv(\"API_KEY\")}\n",
    "\n",
    "# model\n",
    "print(\"hello world\")\n",
    "print(os.getenv(\"API_KEY\"))\n",
    "\n",
    "response = requests.get(\"http://datamall2.mytransport.sg/ltaodataservice/v3/TrafficSpeedBands\", headers=headers)\n",
    "print(response.content)"
   ]
  },
  {
   "cell_type": "code",
   "execution_count": null,
   "metadata": {},
   "outputs": [],
   "source": [
    "import requests\n",
    "from dotenv import load_dotenv\n",
    "import os\n",
    "\n",
    "load_dotenv()\n",
    "\n",
    "headers = {\"AccountKey\": os.getenv(\"API_KEY\")}\n",
    "# model\n",
    "print(\"helloworld\")\n",
    "\n",
    "response = requests.get(\"http://datamall2.mytransport.sg/ltaodataservice/v3/TrafficSpeedBands\", headers=headers)\n",
    "print(response)\n",
    "\n",
    "print(os.getenv(\"API_KEY\"))"
   ]
  },
  {
   "cell_type": "code",
   "execution_count": 2,
   "metadata": {},
   "outputs": [
    {
     "name": "stdout",
     "output_type": "stream",
     "text": [
      "helloworld\n",
      "<Response [200]>\n",
      "CcQVNKchTX6LIul24yNe/A==\n"
     ]
    }
   ],
   "source": [
    "import requests\n",
    "from dotenv import load_dotenv\n",
    "import os\n",
    "\n",
    "load_dotenv()\n",
    "\n",
    "headers = {\"AccountKey\": os.getenv(\"API_KEY\")}\n",
    "# model\n",
    "print(\"helloworld\")\n",
    "\n",
    "response = requests.get(\"http://datamall2.mytransport.sg/ltaodataservice/v3/TrafficSpeedBands\", headers=headers)\n",
    "print(response)\n",
    "\n",
    "print(os.getenv(\"API_KEY\"))"
   ]
  }
 ],
 "metadata": {
  "kernelspec": {
   "display_name": "NCS",
   "language": "python",
   "name": "python3"
  },
  "language_info": {
   "codemirror_mode": {
    "name": "ipython",
    "version": 3
   },
   "file_extension": ".py",
   "mimetype": "text/x-python",
   "name": "python",
   "nbconvert_exporter": "python",
   "pygments_lexer": "ipython3",
   "version": "3.11.7"
  },
  "orig_nbformat": 4
 },
 "nbformat": 4,
 "nbformat_minor": 2
}
